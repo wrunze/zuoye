{
 "cells": [
  {
   "cell_type": "code",
   "execution_count": 4,
   "metadata": {},
   "outputs": [
    {
     "name": "stdout",
     "output_type": "stream",
     "text": [
      "1\n"
     ]
    }
   ],
   "source": [
    "def wrz():\n",
    "    url = ['http://www.17k.com/book/2786612.html','http://www.17k.com/book/2802516.html']\n",
    "file_path = 'C:\\\\Users\\\\dell\\\\Desktop\\\\wangrunze.txt'\n",
    "header = {'User-Agent':'Mozilla/5.0 (Windows NT 10.0; Win64; x64) AppleWebKit/537.36 (KHTML, like Gecko) Chrome/66.0.3359.181 Safari/537.36'}\n",
    "import requests\n",
    "response = requests.get('http://www.17k.com/')\n",
    "with open(file_path,'w',encoding='utf-8')as f:\n",
    "    for i in range(2):\n",
    "        b = requests.get(url[i],headers = header) \n",
    "        f.write(b.text)\n",
    "    print(i)"
   ]
  },
  {
   "cell_type": "code",
   "execution_count": null,
   "metadata": {},
   "outputs": [],
   "source": []
  }
 ],
 "metadata": {
  "kernelspec": {
   "display_name": "Python 3",
   "language": "python",
   "name": "python3"
  },
  "language_info": {
   "codemirror_mode": {
    "name": "ipython",
    "version": 3
   },
   "file_extension": ".py",
   "mimetype": "text/x-python",
   "name": "python",
   "nbconvert_exporter": "python",
   "pygments_lexer": "ipython3",
   "version": "3.6.4"
  }
 },
 "nbformat": 4,
 "nbformat_minor": 2
}
