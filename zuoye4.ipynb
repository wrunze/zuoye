{
 "cells": [
  {
   "cell_type": "code",
   "execution_count": null,
   "metadata": {},
   "outputs": [],
   "source": [
    "import requests\n",
    "from lxml import etree\n",
    "s = 0\n",
    "q = requests.get('http://op.hanhande.com/shtml/meitu.shtml')\n",
    "tree = etree.HTML(q.text)\n",
    "book = tree.xpath('//*[@id=\"main\"]/div[1]/div[2]/ul/li')\n",
    "for i in book:\n",
    "    url = i.xpath('./a/img/@src')[0]\n",
    "    s=s+1\n",
    "    q=requests.get(url).content\n",
    "    with open('C:\\\\Users\\\\dell\\\\Desktop\\\\lalala\\\\text'+str(s)+'.jpg','wb')as f:\n",
    "        f.write(q)\n"
   ]
  },
  {
   "cell_type": "code",
   "execution_count": null,
   "metadata": {},
   "outputs": [],
   "source": []
  }
 ],
 "metadata": {
  "kernelspec": {
   "display_name": "Python 3",
   "language": "python",
   "name": "python3"
  },
  "language_info": {
   "codemirror_mode": {
    "name": "ipython",
    "version": 3
   },
   "file_extension": ".py",
   "mimetype": "text/x-python",
   "name": "python",
   "nbconvert_exporter": "python",
   "pygments_lexer": "ipython3",
   "version": "3.6.4"
  }
 },
 "nbformat": 4,
 "nbformat_minor": 2
}
